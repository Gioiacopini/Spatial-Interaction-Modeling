{
 "cells": [
  {
   "cell_type": "markdown",
   "metadata": {},
   "source": [
    "# Prediction of Grocery Store Sales Using Spatial Interaction Modelling (SIM)\n",
    "<hr>\n",
    "This project is inspired by the Spatial Modelling for Retail Analytics course offered by the [Consumer Data Research Center (CDRC)](https://www.cdrc.ac.uk/) I recently attended. The course was held by [Dr. Andy Newing](https://environment.leeds.ac.uk/geography/staff/1081/dr-andy-newing) and [Dr. Nick Hood](https://environment.leeds.ac.uk/geography/staff/1051/dr-nick-hood). Andy and Nick did a great job at introducing the class to sophisticated analysis and spatial modelling approaches that can be used to understand retail sector dynamics. Please check out all the CDRC courses and events [here](https://www.cdrc.ac.uk/events/).\n",
    "\n",
    "The technique that stood out the most to me was **Spatial Interaction Modelling**. This technique is used in social sciences to predict and describe behaviours that mimic gravitation interactions as described by Isaac Newton's law of gravity. \n",
    "\n",
    "Three independent conditions are necessary for spatial interaction to occur: \n",
    "* Complementarity: There must be supply and demand between the interacting locations. In the specific case of retailing, the supply side are the retail points, while the deman side is the available expenditure of customers. \n",
    "* Intervening opportunity (lack of): Refers to a location that may offer a better alternative as a point of origin or as a point of destination. In retail for example, a customer visits a store becasue he/she must not have a closer store that offers similar array of goods. \n",
    "* Transferability: Persons being transferred must be supported by transport infrastructures implying that origin and destination must be linked. the cost to overcome distance must not be higher than the benefits of the interaction. \n",
    "\n",
    "Spatial interaction models seek to explain spatial flows between **origins** and **destinations**. In this example, the aim is to predict the flow of money into Sheffield grocery stores, given their location, and the available expenditure of the consumers in the modelled area. \n",
    "\n",
    "The relationship between money flow, destinations and origins is given by the equation below: \n",
    "\n",
    "$$ S_{ij} = A_iO_iW_j exp(-\\beta C_{ij}) $$\n",
    "\n",
    "Where, \n",
    "\n",
    "* $S_{ij}$ = flow of expected flow of supermarket $j$ from orgin $i$ \n",
    "\n",
    "* $A_i$ = balancing factor that takes into account competition and ensures that demand is allocated to stores within the modelled region. it is calculated as: \n",
    "\n",
    "$$ A_i = \\frac{1}{\\sum W_j exp (-\\beta C_{ij})}$$\n",
    " \n",
    "* $W_j$ = represents the overall attractiveness of store j. In this case size is used as a proxy of attractiveness. \n",
    "* $exp(-\\beta C_{ij})$ = represents the distance deterrence term. $\\beta$ is between 0 and 1. $\\beta$ = 0 means that the consumer does not mind travelling. $\\beta$ = 1 means that the consumer does not want to travel. $C_ij$ represents the distance between origin and supermarket. \n",
    "\n",
    "\n",
    "\n",
    "\n",
    "\n",
    "\n",
    "### Important:\n",
    "This analysis is an adaptation of Dr. Andy Newing's and Dr. Nick Hood's example projects at the CDRC course on Spacial Modelling for Retail Analytics. During the course the computations were made in Excel, I just applied the same models and ideas to a different dataset and modelled the analysis in Python. \n",
    "\n"
   ]
  },
  {
   "cell_type": "code",
   "execution_count": 744,
   "metadata": {},
   "outputs": [],
   "source": [
    "# Import packages\n",
    "\n",
    "import matplotlib.pyplot as plt\n",
    "import pandas as pd\n",
    "from datetime import datetime\n",
    "import numpy as np\n",
    "from collections import Counter\n",
    "from math import log, sqrt\n",
    "import warnings\n",
    "from mpl_toolkits.basemap import Basemap\n",
    "from random import randint\n",
    "from random import seed\n",
    "from random import random\n",
    "from random import uniform\n",
    "from scipy.spatial import distance_matrix\n",
    "from sklearn.metrics.pairwise import euclidean_distances\n",
    "import scipy as sp\n",
    "from geopy import distance\n",
    "import itertools\n",
    "\n",
    "import plotly\n",
    "import plotly.plotly as py\n",
    "import plotly.graph_objs as go\n",
    "\n",
    "warnings.filterwarnings('ignore')\n",
    "%matplotlib inline"
   ]
  },
  {
   "cell_type": "code",
   "execution_count": 745,
   "metadata": {},
   "outputs": [],
   "source": [
    "seed(1234)"
   ]
  },
  {
   "cell_type": "code",
   "execution_count": 746,
   "metadata": {},
   "outputs": [],
   "source": [
    "# function to count missing data\n",
    "def count_missing(data):\n",
    "    # creates a dataframe containing the sum of all missing values\n",
    "    missing_count = pd.DataFrame(data.isnull().sum(),\\\n",
    "                                 # names column \"Count\" and sorts values in descending order\n",
    "                                 columns=['Count']).sort_values(by=['Count'],\\\n",
    "                                                                ascending=False)\n",
    "    return missing_count"
   ]
  },
  {
   "cell_type": "markdown",
   "metadata": {},
   "source": [
    "## The Data\n",
    "<hr>\n",
    "The data used for this project was downloaded from [Geolytix](https://geolytix.net/?). The dataset contains over 10,000 UK supermarket roof-top locations size information. Retailers include Aldi, Asda, Booths, Budgens, Co-op, Costco, Lidl, Marks and Spencer, Morrisons, Sainsbury’s, Tesco, Waitrose, Wholefoods.\n",
    "\n",
    "I then integrated this data with information regarding the origins, or demand zoens. The demand zones are the wards of the city of Sheffield. \n",
    "Ward data is available from the [Office for National Statistics](https://www.ons.gov.uk/census/2011census)."
   ]
  },
  {
   "cell_type": "code",
   "execution_count": 747,
   "metadata": {},
   "outputs": [],
   "source": [
    "# read geolytics data \n",
    "data_points = pd.read_csv('./retailpoints.csv')"
   ]
  },
  {
   "cell_type": "code",
   "execution_count": 748,
   "metadata": {
    "scrolled": true
   },
   "outputs": [
    {
     "data": {
      "text/html": [
       "<div>\n",
       "<style scoped>\n",
       "    .dataframe tbody tr th:only-of-type {\n",
       "        vertical-align: middle;\n",
       "    }\n",
       "\n",
       "    .dataframe tbody tr th {\n",
       "        vertical-align: top;\n",
       "    }\n",
       "\n",
       "    .dataframe thead th {\n",
       "        text-align: right;\n",
       "    }\n",
       "</style>\n",
       "<table border=\"1\" class=\"dataframe\">\n",
       "  <thead>\n",
       "    <tr style=\"text-align: right;\">\n",
       "      <th></th>\n",
       "      <th>id</th>\n",
       "      <th>retailer</th>\n",
       "      <th>fascia</th>\n",
       "      <th>store_name</th>\n",
       "      <th>add_one</th>\n",
       "      <th>add_two</th>\n",
       "      <th>town</th>\n",
       "      <th>locality</th>\n",
       "      <th>postcode</th>\n",
       "      <th>long_wgs</th>\n",
       "      <th>lat_wgs</th>\n",
       "      <th>bng_e</th>\n",
       "      <th>bng_n</th>\n",
       "      <th>pqi</th>\n",
       "      <th>open_date</th>\n",
       "      <th>close_date</th>\n",
       "      <th>size_band</th>\n",
       "      <th>size_sqft</th>\n",
       "      <th>size_sqm</th>\n",
       "    </tr>\n",
       "  </thead>\n",
       "  <tbody>\n",
       "    <tr>\n",
       "      <th>0</th>\n",
       "      <td>1010000001</td>\n",
       "      <td>Aldi</td>\n",
       "      <td>Aldi</td>\n",
       "      <td>Aldi Aberdeen</td>\n",
       "      <td>Unit 9-10 Boulevard Retail Park</td>\n",
       "      <td>NaN</td>\n",
       "      <td>Aberdeen</td>\n",
       "      <td>Central Aberdeen</td>\n",
       "      <td>AB11 5EJ</td>\n",
       "      <td>-2.081728</td>\n",
       "      <td>57.148626</td>\n",
       "      <td>395153.8100</td>\n",
       "      <td>806418.6600</td>\n",
       "      <td>Rooftop geocoded by Geolytix</td>\n",
       "      <td>0</td>\n",
       "      <td>0</td>\n",
       "      <td>3,013 &lt; 15,069 ft2 (280 &lt; 1,400 m2)</td>\n",
       "      <td>Between 3,013 and 15,069</td>\n",
       "      <td>Between 280 and 1,400</td>\n",
       "    </tr>\n",
       "    <tr>\n",
       "      <th>1</th>\n",
       "      <td>1010000002</td>\n",
       "      <td>Aldi</td>\n",
       "      <td>Aldi</td>\n",
       "      <td>Aldi Westhill</td>\n",
       "      <td>Westhill Drive</td>\n",
       "      <td>NaN</td>\n",
       "      <td>Westhill</td>\n",
       "      <td>NaN</td>\n",
       "      <td>AB32 6FY</td>\n",
       "      <td>-2.278341</td>\n",
       "      <td>57.154810</td>\n",
       "      <td>383260.1400</td>\n",
       "      <td>807138.5400</td>\n",
       "      <td>Rooftop geocoded by Geolytix</td>\n",
       "      <td>0</td>\n",
       "      <td>0</td>\n",
       "      <td>3,013 &lt; 15,069 ft2 (280 &lt; 1,400 m2)</td>\n",
       "      <td>Between 3,013 and 15,069</td>\n",
       "      <td>Between 280 and 1,400</td>\n",
       "    </tr>\n",
       "    <tr>\n",
       "      <th>2</th>\n",
       "      <td>1010000003</td>\n",
       "      <td>Aldi</td>\n",
       "      <td>Aldi</td>\n",
       "      <td>Aldi Ellon</td>\n",
       "      <td>Ythan Terrace</td>\n",
       "      <td>NaN</td>\n",
       "      <td>Ellon</td>\n",
       "      <td>NaN</td>\n",
       "      <td>AB41 9LJ</td>\n",
       "      <td>-2.075009</td>\n",
       "      <td>57.363314</td>\n",
       "      <td>395586.8100</td>\n",
       "      <td>830317.9900</td>\n",
       "      <td>Rooftop geocoded by Geolytix</td>\n",
       "      <td>0</td>\n",
       "      <td>0</td>\n",
       "      <td>3,013 &lt; 15,069 ft2 (280 &lt; 1,400 m2)</td>\n",
       "      <td>Between 3,013 and 15,069</td>\n",
       "      <td>Between 280 and 1,400</td>\n",
       "    </tr>\n",
       "    <tr>\n",
       "      <th>3</th>\n",
       "      <td>1010000004</td>\n",
       "      <td>Aldi</td>\n",
       "      <td>Aldi</td>\n",
       "      <td>Aldi Inverurie</td>\n",
       "      <td>Loco Works Road</td>\n",
       "      <td>NaN</td>\n",
       "      <td>Inverurie</td>\n",
       "      <td>NaN</td>\n",
       "      <td>AB51 4FY</td>\n",
       "      <td>-2.380156</td>\n",
       "      <td>57.288771</td>\n",
       "      <td>377183.9088</td>\n",
       "      <td>822081.1258</td>\n",
       "      <td>Rooftop geocoded by Geolytix</td>\n",
       "      <td>0</td>\n",
       "      <td>0</td>\n",
       "      <td>3,013 &lt; 15,069 ft2 (280 &lt; 1,400 m2)</td>\n",
       "      <td>Between 3,013 and 15,069</td>\n",
       "      <td>Between 280 and 1,400</td>\n",
       "    </tr>\n",
       "    <tr>\n",
       "      <th>4</th>\n",
       "      <td>1010000005</td>\n",
       "      <td>Aldi</td>\n",
       "      <td>Aldi</td>\n",
       "      <td>Aldi Hatfield</td>\n",
       "      <td>11 Parkhouse Court</td>\n",
       "      <td>Comet Way</td>\n",
       "      <td>Hatfield</td>\n",
       "      <td>Hatfield</td>\n",
       "      <td>AL10 9RQ</td>\n",
       "      <td>-0.240950</td>\n",
       "      <td>51.763152</td>\n",
       "      <td>521491.8500</td>\n",
       "      <td>208626.7200</td>\n",
       "      <td>Rooftop geocoded by Geolytix</td>\n",
       "      <td>0</td>\n",
       "      <td>0</td>\n",
       "      <td>3,013 &lt; 15,069 ft2 (280 &lt; 1,400 m2)</td>\n",
       "      <td>Between 3,013 and 15,069</td>\n",
       "      <td>Between 280 and 1,400</td>\n",
       "    </tr>\n",
       "  </tbody>\n",
       "</table>\n",
       "</div>"
      ],
      "text/plain": [
       "           id retailer fascia      store_name  \\\n",
       "0  1010000001     Aldi   Aldi   Aldi Aberdeen   \n",
       "1  1010000002     Aldi   Aldi   Aldi Westhill   \n",
       "2  1010000003     Aldi   Aldi      Aldi Ellon   \n",
       "3  1010000004     Aldi   Aldi  Aldi Inverurie   \n",
       "4  1010000005     Aldi   Aldi   Aldi Hatfield   \n",
       "\n",
       "                           add_one    add_two       town          locality  \\\n",
       "0  Unit 9-10 Boulevard Retail Park        NaN   Aberdeen  Central Aberdeen   \n",
       "1                   Westhill Drive        NaN   Westhill               NaN   \n",
       "2                    Ythan Terrace        NaN      Ellon               NaN   \n",
       "3                  Loco Works Road        NaN  Inverurie               NaN   \n",
       "4               11 Parkhouse Court  Comet Way   Hatfield          Hatfield   \n",
       "\n",
       "   postcode  long_wgs    lat_wgs        bng_e        bng_n  \\\n",
       "0  AB11 5EJ -2.081728  57.148626  395153.8100  806418.6600   \n",
       "1  AB32 6FY -2.278341  57.154810  383260.1400  807138.5400   \n",
       "2  AB41 9LJ -2.075009  57.363314  395586.8100  830317.9900   \n",
       "3  AB51 4FY -2.380156  57.288771  377183.9088  822081.1258   \n",
       "4  AL10 9RQ -0.240950  51.763152  521491.8500  208626.7200   \n",
       "\n",
       "                            pqi  open_date  close_date  \\\n",
       "0  Rooftop geocoded by Geolytix          0           0   \n",
       "1  Rooftop geocoded by Geolytix          0           0   \n",
       "2  Rooftop geocoded by Geolytix          0           0   \n",
       "3  Rooftop geocoded by Geolytix          0           0   \n",
       "4  Rooftop geocoded by Geolytix          0           0   \n",
       "\n",
       "                             size_band                 size_sqft  \\\n",
       "0  3,013 < 15,069 ft2 (280 < 1,400 m2)  Between 3,013 and 15,069   \n",
       "1  3,013 < 15,069 ft2 (280 < 1,400 m2)  Between 3,013 and 15,069   \n",
       "2  3,013 < 15,069 ft2 (280 < 1,400 m2)  Between 3,013 and 15,069   \n",
       "3  3,013 < 15,069 ft2 (280 < 1,400 m2)  Between 3,013 and 15,069   \n",
       "4  3,013 < 15,069 ft2 (280 < 1,400 m2)  Between 3,013 and 15,069   \n",
       "\n",
       "                size_sqm  \n",
       "0  Between 280 and 1,400  \n",
       "1  Between 280 and 1,400  \n",
       "2  Between 280 and 1,400  \n",
       "3  Between 280 and 1,400  \n",
       "4  Between 280 and 1,400  "
      ]
     },
     "execution_count": 748,
     "metadata": {},
     "output_type": "execute_result"
    }
   ],
   "source": [
    "# copy data and see how dataset looks \n",
    "retail_points = data_points\n",
    "retail_points.head()"
   ]
  },
  {
   "cell_type": "code",
   "execution_count": 749,
   "metadata": {
    "scrolled": true
   },
   "outputs": [
    {
     "name": "stdout",
     "output_type": "stream",
     "text": [
      "The dataset contains  13859  rows and  19  columns\n"
     ]
    }
   ],
   "source": [
    "print('The dataset contains ', str(retail_points.shape[0]), ' rows and ', str(retail_points.shape[1]), ' columns')"
   ]
  },
  {
   "cell_type": "code",
   "execution_count": 750,
   "metadata": {},
   "outputs": [
    {
     "name": "stdout",
     "output_type": "stream",
     "text": [
      "The dataset contains the following columns\n",
      "['id', 'retailer', 'fascia', 'store_name', 'add_one', 'add_two', 'town', 'locality', 'postcode', 'long_wgs', 'lat_wgs', 'bng_e', 'bng_n', 'pqi', 'open_date', 'close_date', 'size_band', 'size_sqft', 'size_sqm']\n"
     ]
    }
   ],
   "source": [
    "column_names = retail_points.columns.values.tolist()\n",
    "print('The dataset contains the following columns')\n",
    "print(column_names)"
   ]
  },
  {
   "cell_type": "code",
   "execution_count": 751,
   "metadata": {
    "scrolled": false
   },
   "outputs": [
    {
     "name": "stdout",
     "output_type": "stream",
     "text": [
      "the type of items in column  0  is  <class 'numpy.int64'>\n",
      "the type of items in column  1  is  <class 'str'>\n",
      "the type of items in column  2  is  <class 'str'>\n",
      "the type of items in column  3  is  <class 'str'>\n",
      "the type of items in column  4  is  <class 'str'>\n",
      "the type of items in column  5  is  <class 'float'>\n",
      "the type of items in column  6  is  <class 'str'>\n",
      "the type of items in column  7  is  <class 'str'>\n",
      "the type of items in column  8  is  <class 'str'>\n",
      "the type of items in column  9  is  <class 'numpy.float64'>\n",
      "the type of items in column  10  is  <class 'numpy.float64'>\n",
      "the type of items in column  11  is  <class 'numpy.float64'>\n",
      "the type of items in column  12  is  <class 'numpy.float64'>\n",
      "the type of items in column  13  is  <class 'str'>\n",
      "the type of items in column  14  is  <class 'numpy.int64'>\n",
      "the type of items in column  15  is  <class 'numpy.int64'>\n",
      "the type of items in column  16  is  <class 'str'>\n",
      "the type of items in column  17  is  <class 'str'>\n",
      "the type of items in column  18  is  <class 'str'>\n"
     ]
    }
   ],
   "source": [
    "# examine the type of data in the set\n",
    "for i in range(retail_points.shape[1]):\n",
    "    print('the type of items in column ', str(i), ' is ', str(type(retail_points.iloc[0][i])))"
   ]
  },
  {
   "cell_type": "code",
   "execution_count": 752,
   "metadata": {
    "scrolled": true
   },
   "outputs": [
    {
     "data": {
      "text/html": [
       "<div>\n",
       "<style scoped>\n",
       "    .dataframe tbody tr th:only-of-type {\n",
       "        vertical-align: middle;\n",
       "    }\n",
       "\n",
       "    .dataframe tbody tr th {\n",
       "        vertical-align: top;\n",
       "    }\n",
       "\n",
       "    .dataframe thead th {\n",
       "        text-align: right;\n",
       "    }\n",
       "</style>\n",
       "<table border=\"1\" class=\"dataframe\">\n",
       "  <thead>\n",
       "    <tr style=\"text-align: right;\">\n",
       "      <th></th>\n",
       "      <th>Count</th>\n",
       "    </tr>\n",
       "  </thead>\n",
       "  <tbody>\n",
       "    <tr>\n",
       "      <th>add_two</th>\n",
       "      <td>9717</td>\n",
       "    </tr>\n",
       "    <tr>\n",
       "      <th>locality</th>\n",
       "      <td>3955</td>\n",
       "    </tr>\n",
       "    <tr>\n",
       "      <th>id</th>\n",
       "      <td>0</td>\n",
       "    </tr>\n",
       "    <tr>\n",
       "      <th>bng_e</th>\n",
       "      <td>0</td>\n",
       "    </tr>\n",
       "    <tr>\n",
       "      <th>size_sqft</th>\n",
       "      <td>0</td>\n",
       "    </tr>\n",
       "    <tr>\n",
       "      <th>size_band</th>\n",
       "      <td>0</td>\n",
       "    </tr>\n",
       "    <tr>\n",
       "      <th>close_date</th>\n",
       "      <td>0</td>\n",
       "    </tr>\n",
       "    <tr>\n",
       "      <th>open_date</th>\n",
       "      <td>0</td>\n",
       "    </tr>\n",
       "    <tr>\n",
       "      <th>pqi</th>\n",
       "      <td>0</td>\n",
       "    </tr>\n",
       "    <tr>\n",
       "      <th>bng_n</th>\n",
       "      <td>0</td>\n",
       "    </tr>\n",
       "    <tr>\n",
       "      <th>long_wgs</th>\n",
       "      <td>0</td>\n",
       "    </tr>\n",
       "    <tr>\n",
       "      <th>lat_wgs</th>\n",
       "      <td>0</td>\n",
       "    </tr>\n",
       "    <tr>\n",
       "      <th>retailer</th>\n",
       "      <td>0</td>\n",
       "    </tr>\n",
       "    <tr>\n",
       "      <th>postcode</th>\n",
       "      <td>0</td>\n",
       "    </tr>\n",
       "    <tr>\n",
       "      <th>town</th>\n",
       "      <td>0</td>\n",
       "    </tr>\n",
       "    <tr>\n",
       "      <th>add_one</th>\n",
       "      <td>0</td>\n",
       "    </tr>\n",
       "    <tr>\n",
       "      <th>store_name</th>\n",
       "      <td>0</td>\n",
       "    </tr>\n",
       "    <tr>\n",
       "      <th>fascia</th>\n",
       "      <td>0</td>\n",
       "    </tr>\n",
       "    <tr>\n",
       "      <th>size_sqm</th>\n",
       "      <td>0</td>\n",
       "    </tr>\n",
       "  </tbody>\n",
       "</table>\n",
       "</div>"
      ],
      "text/plain": [
       "            Count\n",
       "add_two      9717\n",
       "locality     3955\n",
       "id              0\n",
       "bng_e           0\n",
       "size_sqft       0\n",
       "size_band       0\n",
       "close_date      0\n",
       "open_date       0\n",
       "pqi             0\n",
       "bng_n           0\n",
       "long_wgs        0\n",
       "lat_wgs         0\n",
       "retailer        0\n",
       "postcode        0\n",
       "town            0\n",
       "add_one         0\n",
       "store_name      0\n",
       "fascia          0\n",
       "size_sqm        0"
      ]
     },
     "execution_count": 752,
     "metadata": {},
     "output_type": "execute_result"
    }
   ],
   "source": [
    "# check for missing values\n",
    "count_missing(retail_points)"
   ]
  },
  {
   "cell_type": "markdown",
   "metadata": {},
   "source": [
    "### Filter \n",
    "<hr>\n",
    "For this project I decided to use supermarkets located in the city of Sheffield."
   ]
  },
  {
   "cell_type": "code",
   "execution_count": 753,
   "metadata": {},
   "outputs": [],
   "source": [
    "# subset data to contain grocery stores in sheffield \n",
    "city = 'Sheffield'\n",
    "retail_points_shef = retail_points.loc[retail_points['town'] == city]\n",
    "retail_points_shef = retail_points_shef.reset_index(drop = True)\n"
   ]
  },
  {
   "cell_type": "code",
   "execution_count": 754,
   "metadata": {},
   "outputs": [
    {
     "name": "stdout",
     "output_type": "stream",
     "text": [
      "There are  125  supermarket stores in  Sheffield\n"
     ]
    }
   ],
   "source": [
    "print('There are ', str(retail_points_shef.shape[0]), ' supermarket stores in ', city)"
   ]
  },
  {
   "cell_type": "code",
   "execution_count": 755,
   "metadata": {},
   "outputs": [],
   "source": [
    "# only keep the columns we are interested in \n",
    "retail_points_shef = retail_points_shef.iloc[:, [0,1,8,9,10,11,12,18]]"
   ]
  },
  {
   "cell_type": "markdown",
   "metadata": {},
   "source": [
    "### Show Sheffield Retail Points in Map"
   ]
  },
  {
   "cell_type": "code",
   "execution_count": 756,
   "metadata": {
    "scrolled": true
   },
   "outputs": [
    {
     "data": {
      "image/png": "[encoded data removed]",
      "text/plain": [
       "<Figure size 864x432 with 1 Axes>"
      ]
     },
     "metadata": {},
     "output_type": "display_data"
    }
   ],
   "source": [
    "# map retail points in sheffield\n",
    "# Extract the data we're interested in\n",
    "lat = retail_points_shef['lat_wgs'].values\n",
    "lon = retail_points_shef['long_wgs'].values\n",
    "\n",
    "# How much to zoom from coordinates (in degrees)\n",
    "zoom_scale = 0.02\n",
    "\n",
    "# Setup the bounding box for the zoom and bounds of the map\n",
    "bbox = [np.min(lat)-zoom_scale,np.max(lat)+zoom_scale,\\\n",
    "        np.min(lon)-zoom_scale,np.max(lon)+zoom_scale]\n",
    "\n",
    "plt.figure(figsize=(12,6))\n",
    "\n",
    "# Define the projection, scale, the corners of the map, and the resolution.\n",
    "m = Basemap(projection='merc',llcrnrlat=bbox[0],urcrnrlat=bbox[1],\\\n",
    "            llcrnrlon=bbox[2],urcrnrlon=bbox[3],lat_ts=10,resolution='h')\n",
    "\n",
    "m.drawcoastlines()\n",
    "\n",
    "# draw parallels, meridians, and color boundaries\n",
    "m.drawparallels(np.arange(bbox[0],bbox[1],(bbox[1]-bbox[0])/5),labels=[1,0,0,0])\n",
    "m.drawmeridians(np.arange(bbox[2],bbox[3],(bbox[3]-bbox[2])/5),labels=[0,0,0,1],rotation=45)\n",
    "m.drawmapboundary()\n",
    "\n",
    "# build and plot coordinates onto map\n",
    "x,y = m(lon,lat)\n",
    "m.plot(x,y,'r*',markersize=5)\n",
    "plt.title(\"Retail points in Sheffield\")\n",
    "plt.show()"
   ]
  },
  {
   "cell_type": "markdown",
   "metadata": {},
   "source": [
    "### Data Linkage\n",
    "<hr>\n",
    "It is now time to obtain data regarding the demand side of the analysis. The information we need to obtain is: \n",
    "* How many demand zones are there and what are their locations? \n",
    "* What are the available expenditure of the demand zones? "
   ]
  },
  {
   "cell_type": "code",
   "execution_count": 757,
   "metadata": {},
   "outputs": [],
   "source": [
    "# read postcode data\n",
    "# This data will be used to assign postcodes to wardcodes. \n",
    "postcodes = pd.read_csv('postcodes.csv')"
   ]
  },
  {
   "cell_type": "code",
   "execution_count": 758,
   "metadata": {
    "scrolled": false
   },
   "outputs": [
    {
     "data": {
      "text/html": [
       "<div>\n",
       "<style scoped>\n",
       "    .dataframe tbody tr th:only-of-type {\n",
       "        vertical-align: middle;\n",
       "    }\n",
       "\n",
       "    .dataframe tbody tr th {\n",
       "        vertical-align: top;\n",
       "    }\n",
       "\n",
       "    .dataframe thead th {\n",
       "        text-align: right;\n",
       "    }\n",
       "</style>\n",
       "<table border=\"1\" class=\"dataframe\">\n",
       "  <thead>\n",
       "    <tr style=\"text-align: right;\">\n",
       "      <th></th>\n",
       "      <th>postcode</th>\n",
       "      <th>ward_code</th>\n",
       "    </tr>\n",
       "  </thead>\n",
       "  <tbody>\n",
       "    <tr>\n",
       "      <th>0</th>\n",
       "      <td>AL1 1AG</td>\n",
       "      <td>E05004802</td>\n",
       "    </tr>\n",
       "    <tr>\n",
       "      <th>1</th>\n",
       "      <td>AL1 1AJ</td>\n",
       "      <td>E05004802</td>\n",
       "    </tr>\n",
       "    <tr>\n",
       "      <th>2</th>\n",
       "      <td>AL1 1AR</td>\n",
       "      <td>E05004789</td>\n",
       "    </tr>\n",
       "    <tr>\n",
       "      <th>3</th>\n",
       "      <td>AL1 1AS</td>\n",
       "      <td>E05004799</td>\n",
       "    </tr>\n",
       "    <tr>\n",
       "      <th>4</th>\n",
       "      <td>AL1 1BH</td>\n",
       "      <td>E05004802</td>\n",
       "    </tr>\n",
       "  </tbody>\n",
       "</table>\n",
       "</div>"
      ],
      "text/plain": [
       "  postcode  ward_code\n",
       "0  AL1 1AG  E05004802\n",
       "1  AL1 1AJ  E05004802\n",
       "2  AL1 1AR  E05004789\n",
       "3  AL1 1AS  E05004799\n",
       "4  AL1 1BH  E05004802"
      ]
     },
     "execution_count": 758,
     "metadata": {},
     "output_type": "execute_result"
    }
   ],
   "source": [
    "# make a copy of the dataset \n",
    "pcodes = postcodes\n",
    "# select variables of interest (postcode and wardcode)\n",
    "pcodes = pcodes.iloc[:,[2,6]]\n",
    "# rename columns\n",
    "pcodes = pcodes.rename(index=str, columns={\"pcds\": \"postcode\", \"wd11cd\": \"ward_code\"})\n",
    "pcodes.head()"
   ]
  },
  {
   "cell_type": "code",
   "execution_count": 759,
   "metadata": {},
   "outputs": [],
   "source": [
    "# read sheffield postcode data \n",
    "sheffield_codes = pd.read_csv('./Sheffield_postcodes.csv')"
   ]
  },
  {
   "cell_type": "code",
   "execution_count": 760,
   "metadata": {},
   "outputs": [],
   "source": [
    "# keep only postcodes that are still in use. \n",
    "sheffield_codes = sheffield_codes.loc[sheffield_codes['In Use?']=='Yes',:]\n",
    "# keep only columns that we need \n",
    "sheffield_codes = sheffield_codes.iloc[:,[0,4,5]]\n",
    "# rename dataset columns\n",
    "sheffield_codes = sheffield_codes.rename(index=str, columns={\"Postcode\": \"postcode\", \"Easting\": \"easting\",\n",
    "                                                            'Northing':'northing'})"
   ]
  },
  {
   "cell_type": "code",
   "execution_count": 761,
   "metadata": {},
   "outputs": [
    {
     "data": {
      "text/html": [
       "<div>\n",
       "<style scoped>\n",
       "    .dataframe tbody tr th:only-of-type {\n",
       "        vertical-align: middle;\n",
       "    }\n",
       "\n",
       "    .dataframe tbody tr th {\n",
       "        vertical-align: top;\n",
       "    }\n",
       "\n",
       "    .dataframe thead th {\n",
       "        text-align: right;\n",
       "    }\n",
       "</style>\n",
       "<table border=\"1\" class=\"dataframe\">\n",
       "  <thead>\n",
       "    <tr style=\"text-align: right;\">\n",
       "      <th></th>\n",
       "      <th>ward_code</th>\n",
       "      <th>easting</th>\n",
       "      <th>northing</th>\n",
       "    </tr>\n",
       "  </thead>\n",
       "  <tbody>\n",
       "    <tr>\n",
       "      <th>0</th>\n",
       "      <td>E05001020</td>\n",
       "      <td>441185.00000</td>\n",
       "      <td>389923.00000</td>\n",
       "    </tr>\n",
       "    <tr>\n",
       "      <th>1</th>\n",
       "      <td>E05001039</td>\n",
       "      <td>437160.90379</td>\n",
       "      <td>384844.64723</td>\n",
       "    </tr>\n",
       "  </tbody>\n",
       "</table>\n",
       "</div>"
      ],
      "text/plain": [
       "   ward_code       easting      northing\n",
       "0  E05001020  441185.00000  389923.00000\n",
       "1  E05001039  437160.90379  384844.64723"
      ]
     },
     "execution_count": 761,
     "metadata": {},
     "output_type": "execute_result"
    }
   ],
   "source": [
    "# merge sheffield postcodes with ward dataset to get all wards in the city of sheffield \n",
    "sheffield_codes = pd.merge(sheffield_codes, pcodes, on='postcode', how='inner')\n",
    "# keep useful columns \n",
    "sheffield_codes = sheffield_codes.iloc[:, [3,1,2]]\n",
    "# more that one postcode is assigned to the same ward. group data by ward and take the mean of the\n",
    "# location to get a location coordinate for the ward.\n",
    "sheffield_codes = sheffield_codes.groupby('ward_code').mean().reset_index()\n",
    "sheffield_codes.head(2)"
   ]
  },
  {
   "cell_type": "code",
   "execution_count": 762,
   "metadata": {},
   "outputs": [
    {
     "name": "stdout",
     "output_type": "stream",
     "text": [
      "There are  30  demand zones in  Sheffield\n"
     ]
    }
   ],
   "source": [
    "print('There are ', str(sheffield_codes.shape[0]), ' demand zones in ', city)"
   ]
  },
  {
   "cell_type": "code",
   "execution_count": 763,
   "metadata": {},
   "outputs": [],
   "source": [
    "# Read population data \n",
    "# this gives data about the economically active population in the demand zone. \n",
    "pop = pd.read_csv('./unemploy.csv')"
   ]
  },
  {
   "cell_type": "code",
   "execution_count": 764,
   "metadata": {
    "scrolled": true
   },
   "outputs": [
    {
     "data": {
      "text/html": [
       "<div>\n",
       "<style scoped>\n",
       "    .dataframe tbody tr th:only-of-type {\n",
       "        vertical-align: middle;\n",
       "    }\n",
       "\n",
       "    .dataframe tbody tr th {\n",
       "        vertical-align: top;\n",
       "    }\n",
       "\n",
       "    .dataframe thead th {\n",
       "        text-align: right;\n",
       "    }\n",
       "</style>\n",
       "<table border=\"1\" class=\"dataframe\">\n",
       "  <thead>\n",
       "    <tr style=\"text-align: right;\">\n",
       "      <th></th>\n",
       "      <th>ward_code</th>\n",
       "      <th>economically active</th>\n",
       "    </tr>\n",
       "  </thead>\n",
       "  <tbody>\n",
       "    <tr>\n",
       "      <th>1</th>\n",
       "      <td>95AA01</td>\n",
       "      <td>2473</td>\n",
       "    </tr>\n",
       "    <tr>\n",
       "      <th>2</th>\n",
       "      <td>95AA02</td>\n",
       "      <td>892</td>\n",
       "    </tr>\n",
       "    <tr>\n",
       "      <th>3</th>\n",
       "      <td>95AA03</td>\n",
       "      <td>840</td>\n",
       "    </tr>\n",
       "    <tr>\n",
       "      <th>4</th>\n",
       "      <td>95AA04</td>\n",
       "      <td>1660</td>\n",
       "    </tr>\n",
       "    <tr>\n",
       "      <th>5</th>\n",
       "      <td>95AA05</td>\n",
       "      <td>1362</td>\n",
       "    </tr>\n",
       "  </tbody>\n",
       "</table>\n",
       "</div>"
      ],
      "text/plain": [
       "   ward_code economically active\n",
       "1  95AA01                   2473\n",
       "2  95AA02                    892\n",
       "3  95AA03                    840\n",
       "4  95AA04                   1660\n",
       "5  95AA05                   1362"
      ]
     },
     "execution_count": 764,
     "metadata": {},
     "output_type": "execute_result"
    }
   ],
   "source": [
    "population = pop\n",
    "population = population.iloc[:, [1,5]]\n",
    "population = population.iloc[1:]\n",
    "population = population.rename(index=str, columns={\"GEO_CODE\": \"ward_code\", \n",
    "                                     \"F244\": \"economically active\"})\n",
    "population.head()"
   ]
  },
  {
   "cell_type": "markdown",
   "metadata": {},
   "source": [
    "### Create a \"Demand\" Dataset\n",
    "At this point I need to generate data regarding the demand zones. Through the census data I was able to know how many people are economically active in each ward. An economically active individual is either employed or is looking for employment. \n",
    "\n",
    "I am assuming that each economically active individual of each ward will spend at least 10 pounds in supermarkets each week. After generating this assumption I can calculate the expenditure of each demand zone, and the total expenditure that the model will allocate to the supermarkets. "
   ]
  },
  {
   "cell_type": "code",
   "execution_count": 765,
   "metadata": {
    "scrolled": true
   },
   "outputs": [
    {
     "data": {
      "text/html": [
       "<div>\n",
       "<style scoped>\n",
       "    .dataframe tbody tr th:only-of-type {\n",
       "        vertical-align: middle;\n",
       "    }\n",
       "\n",
       "    .dataframe tbody tr th {\n",
       "        vertical-align: top;\n",
       "    }\n",
       "\n",
       "    .dataframe thead th {\n",
       "        text-align: right;\n",
       "    }\n",
       "</style>\n",
       "<table border=\"1\" class=\"dataframe\">\n",
       "  <thead>\n",
       "    <tr style=\"text-align: right;\">\n",
       "      <th></th>\n",
       "      <th>easting</th>\n",
       "      <th>northing</th>\n",
       "      <th>expenditure</th>\n",
       "    </tr>\n",
       "    <tr>\n",
       "      <th>ward_code</th>\n",
       "      <th></th>\n",
       "      <th></th>\n",
       "      <th></th>\n",
       "    </tr>\n",
       "  </thead>\n",
       "  <tbody>\n",
       "    <tr>\n",
       "      <th>E05001020</th>\n",
       "      <td>441185.000000</td>\n",
       "      <td>389923.000000</td>\n",
       "      <td>62920.0</td>\n",
       "    </tr>\n",
       "    <tr>\n",
       "      <th>E05001039</th>\n",
       "      <td>437160.903790</td>\n",
       "      <td>384844.647230</td>\n",
       "      <td>89230.0</td>\n",
       "    </tr>\n",
       "    <tr>\n",
       "      <th>E05001040</th>\n",
       "      <td>434464.363344</td>\n",
       "      <td>381142.086817</td>\n",
       "      <td>87710.0</td>\n",
       "    </tr>\n",
       "    <tr>\n",
       "      <th>E05001041</th>\n",
       "      <td>443061.252308</td>\n",
       "      <td>383108.584615</td>\n",
       "      <td>98910.0</td>\n",
       "    </tr>\n",
       "    <tr>\n",
       "      <th>E05001042</th>\n",
       "      <td>439911.310954</td>\n",
       "      <td>383325.293286</td>\n",
       "      <td>83920.0</td>\n",
       "    </tr>\n",
       "  </tbody>\n",
       "</table>\n",
       "</div>"
      ],
      "text/plain": [
       "                 easting       northing  expenditure\n",
       "ward_code                                           \n",
       "E05001020  441185.000000  389923.000000      62920.0\n",
       "E05001039  437160.903790  384844.647230      89230.0\n",
       "E05001040  434464.363344  381142.086817      87710.0\n",
       "E05001041  443061.252308  383108.584615      98910.0\n",
       "E05001042  439911.310954  383325.293286      83920.0"
      ]
     },
     "execution_count": 765,
     "metadata": {},
     "output_type": "execute_result"
    }
   ],
   "source": [
    "# merge sheffield wardcodes with population data to get information about population in each ward.\n",
    "demand = pd.merge(sheffield_codes, population, on='ward_code', how='inner')\n",
    "\n",
    "# fucntion that returns demand\n",
    "def get_demand_DF(data):\n",
    "    data['economically active'] = data['economically active'].astype(float)\n",
    "    data['expenditure'] = data['economically active']*10\n",
    "    data = data.loc[:,['ward_code','easting','northing','expenditure']]\n",
    "    data = data.set_index('ward_code')\n",
    "    return data\n",
    "\n",
    "demand_d = get_demand_DF(demand)\n",
    "\n",
    "# I am assuming that each economically active individual in the deman zone will spend 10 pounds per week on food. \n",
    "demand_d.head()"
   ]
  },
  {
   "cell_type": "code",
   "execution_count": 766,
   "metadata": {},
   "outputs": [
    {
     "name": "stdout",
     "output_type": "stream",
     "text": [
      "The total expenditure is  2782600.0  per week\n"
     ]
    }
   ],
   "source": [
    "print('The total expenditure is ', str(demand_d['expenditure'].sum()), ' per week')"
   ]
  },
  {
   "cell_type": "markdown",
   "metadata": {},
   "source": [
    "### Create a \"Supply\" Dataset \n",
    "\n",
    "The supply data needs to have information about the location and size of the retailer. It would be ideal to have exact information about the size of the retail point, however, the Geolytics data only gives a range of values. For example, store X is smaller than 280 sqm, or between 280 and 1400. To solve this problem, I decided to generate a random integer withing those bounds and to assume that to be the store size.  "
   ]
  },
  {
   "cell_type": "code",
   "execution_count": 767,
   "metadata": {},
   "outputs": [],
   "source": [
    "# merge retail points data with postcode data to attach ward code to each store. \n",
    "supply = pd.merge(retail_points_shef, pcodes, on='postcode', how='inner')"
   ]
  },
  {
   "cell_type": "code",
   "execution_count": 768,
   "metadata": {
    "scrolled": true
   },
   "outputs": [
    {
     "data": {
      "text/html": [
       "<div>\n",
       "<style scoped>\n",
       "    .dataframe tbody tr th:only-of-type {\n",
       "        vertical-align: middle;\n",
       "    }\n",
       "\n",
       "    .dataframe tbody tr th {\n",
       "        vertical-align: top;\n",
       "    }\n",
       "\n",
       "    .dataframe thead th {\n",
       "        text-align: right;\n",
       "    }\n",
       "</style>\n",
       "<table border=\"1\" class=\"dataframe\">\n",
       "  <thead>\n",
       "    <tr style=\"text-align: right;\">\n",
       "      <th></th>\n",
       "      <th>retailer</th>\n",
       "      <th>easting</th>\n",
       "      <th>northing</th>\n",
       "      <th>size</th>\n",
       "    </tr>\n",
       "    <tr>\n",
       "      <th>id</th>\n",
       "      <th></th>\n",
       "      <th></th>\n",
       "      <th></th>\n",
       "      <th></th>\n",
       "    </tr>\n",
       "  </thead>\n",
       "  <tbody>\n",
       "    <tr>\n",
       "      <th>1010000414</th>\n",
       "      <td>Aldi</td>\n",
       "      <td>435703.41</td>\n",
       "      <td>394469.17</td>\n",
       "      <td>1182</td>\n",
       "    </tr>\n",
       "    <tr>\n",
       "      <th>1010000423</th>\n",
       "      <td>Aldi</td>\n",
       "      <td>433918.19</td>\n",
       "      <td>383226.01</td>\n",
       "      <td>519</td>\n",
       "    </tr>\n",
       "    <tr>\n",
       "      <th>1010001067</th>\n",
       "      <td>Asda</td>\n",
       "      <td>438184.00</td>\n",
       "      <td>384928.50</td>\n",
       "      <td>295</td>\n",
       "    </tr>\n",
       "    <tr>\n",
       "      <th>1010001068</th>\n",
       "      <td>Asda</td>\n",
       "      <td>435749.93</td>\n",
       "      <td>385867.44</td>\n",
       "      <td>465</td>\n",
       "    </tr>\n",
       "    <tr>\n",
       "      <th>1010001070</th>\n",
       "      <td>Asda</td>\n",
       "      <td>433051.56</td>\n",
       "      <td>390683.61</td>\n",
       "      <td>351</td>\n",
       "    </tr>\n",
       "  </tbody>\n",
       "</table>\n",
       "</div>"
      ],
      "text/plain": [
       "           retailer    easting   northing  size\n",
       "id                                             \n",
       "1010000414     Aldi  435703.41  394469.17  1182\n",
       "1010000423     Aldi  433918.19  383226.01   519\n",
       "1010001067     Asda  438184.00  384928.50   295\n",
       "1010001068     Asda  435749.93  385867.44   465\n",
       "1010001070     Asda  433051.56  390683.61   351"
      ]
     },
     "execution_count": 768,
     "metadata": {},
     "output_type": "execute_result"
    }
   ],
   "source": [
    "def size(row):\n",
    "    #assing all rows to unspecified \n",
    "    value = 0\n",
    "    # but, if  \n",
    "    if row['size'] == 'Between 280 and 1,400':\n",
    "        # give value \n",
    "        value = randint(280, 1400)\n",
    "    if row['size'] == 'Over 2,800': \n",
    "        value = randint(2800, 3500)\n",
    "    if row['size'] == 'Between 1,400 and 2,800':\n",
    "        value = randint(1400, 2800)\n",
    "    if row['size'] == 'Less than 280':\n",
    "        value = randint(100,280)\n",
    "    #at the end, return value\n",
    "    return value\n",
    "\n",
    "# function that creates supply dataset \n",
    "def get_supply_DF(data):\n",
    "    # get columns of interest\n",
    "    data = data.loc[:,['id','retailer','bng_e','bng_n','size_sqm']]\n",
    "    # rename columns \n",
    "    data = data.rename(index=str, columns={\"id\": \"id\", \"retailer\": \"retailer\",\n",
    "                                            'bng_e':'easting',\n",
    "                                            'bng_n': 'northing',\n",
    "                                            'size_sqm':'size'})\n",
    "    # add size with function above\n",
    "    data['size'] = data.apply(size, axis=1)\n",
    "    # set column 'id' as index of dataframe\n",
    "    data = data.set_index('id')\n",
    "    # reutn dataframe\n",
    "    return data\n",
    "\n",
    "# apply function \n",
    "supply_d = get_supply_DF(supply)\n",
    "supply_d.head()  "
   ]
  },
  {
   "cell_type": "markdown",
   "metadata": {},
   "source": [
    "Now that the supply dataset is complete, let's look at how many retail points each retailer has in Sheffield. \n",
    "\n",
    "The graph below shows that the retailer witht he highest number of retail points in **The Co-operative Group** with 25 stores withing the modelled area. "
   ]
  },
  {
   "cell_type": "code",
   "execution_count": 769,
   "metadata": {},
   "outputs": [
    {
     "data": {
      "text/html": [
       "<iframe id=\"igraph\" scrolling=\"no\" style=\"border:none;\" seamless=\"seamless\" src=\"https://plot.ly/~giacopini/3.embed\" height=\"525px\" width=\"100%\"></iframe>"
      ],
      "text/plain": [
       "<plotly.tools.PlotlyDisplay object>"
      ]
     },
     "execution_count": 769,
     "metadata": {},
     "output_type": "execute_result"
    }
   ],
   "source": [
    "# bar graph showing which supermarkets have more retail points. \n",
    "d = supply_d.groupby('retailer', as_index=False).count()\n",
    "d = d.sort_values(by=['size'], ascending = False)\n",
    "plotly.tools.set_credentials_file(username='giacopini', api_key='sAkPM0WuDb2Ah30ixDFx')\n",
    "\n",
    "trace0 = go.Bar(\n",
    "    x= d['retailer'],\n",
    "    y= d['size'],\n",
    "    marker=dict(\n",
    "        color=['rgba(204,204,204,1)', 'rgba(204,204,204,1)',\n",
    "               'rgba(204,204,204,1)', 'rgba(204,204,204,1)',\n",
    "               'rgba(204,204,204,1)', 'rgba(204,204,204,1)',\n",
    "               'rgba(204,204,204,1)','rgba(204,204,204,1)',\n",
    "               'rgba(204,204,204,1)','rgba(204,204,204,1)',\n",
    "               'rgba(204,204,204,1)','rgba(204,204,204,1)',\n",
    "               'rgba(204,204,204,1)']),\n",
    ")\n",
    "\n",
    "\n",
    "\n",
    "data = [trace0]\n",
    "layout = go.Layout(\n",
    "    title= str(d[0:1]['retailer']).split('\\n')[0].split('   ')[1]+\\\n",
    "    ' is the retailer with the highest number of retail points in Sheffield',\n",
    ")\n",
    "\n",
    "fig = go.Figure(data=data, layout=layout)\n",
    "py.iplot(fig, filename='text-hover-bar')"
   ]
  },
  {
   "cell_type": "markdown",
   "metadata": {},
   "source": [
    "### Spatial Interaction Modelling"
   ]
  },
  {
   "cell_type": "markdown",
   "metadata": {},
   "source": [
    "To recap, the expected flow of money between a demand zone and a destination is calculated by\n",
    "$$S_{ij} = A_iO_iW_j exp(-\\beta C_{ij})$$\n",
    "\n",
    "Where, \n",
    "\n",
    "* $S_{ij}$ = flow of expected revenue of the supermarket\n",
    "\n",
    "* $A_i$ = balancing factor that takes into account competition and ensures that demand is allocated to stores within the modelled region. it is calculated as: \n",
    "\n",
    "$$ A_i = \\frac{1}{\\sum W_j exp (-\\beta C_{ij})}$$\n",
    " \n",
    "* $W_j$ = represents the overall attractiveness of store j. In this case size is used as a proxy of attractiveness. \n",
    "* $exp(-\\beta C_{ij})$ = represents the distance deterrence term. $\\beta$ is between 0 and 1. $\\beta$ = 0 means that the consumer does not mind travelling. $\\beta$ = 1 means that the consumer does not want to travel. $C_ij$ represents the distance between demand zone and supermarket. \n",
    "\n",
    "I will complete this analysis in 5 easy steps\n"
   ]
  },
  {
   "cell_type": "markdown",
   "metadata": {},
   "source": [
    "### 1. Calculate distance matrix $C_{ij}$\n",
    "This matrix contains the distance from demand zones to supermarkets. In this case we will calculate the euclidean distance. \n",
    "\n",
    "$${\\displaystyle d(\\mathbf {p} ,\\mathbf {q} )={\\sqrt {(q_{1}-p_{1})^{2}+(q_{2}-p_{2})^{2}}}.}$$"
   ]
  },
  {
   "cell_type": "code",
   "execution_count": 770,
   "metadata": {},
   "outputs": [
    {
     "data": {
      "text/plain": [
       "array([[11579.27108757,  3860.08601596,  2354.13545013, ...,\n",
       "        15058.76513885, 14423.12474376, 10801.25890367],\n",
       "       [13002.83972318,  6594.27706577,  4201.59370656, ...,\n",
       "        12198.04459469, 11134.06820425,  8623.7485972 ],\n",
       "       [ 7485.44912617, 15358.11609151, 19007.36529306, ...,\n",
       "         3920.74525381,  5248.2822813 ,  9967.13700189],\n",
       "       ...,\n",
       "       [ 9891.47674492,  3270.82567274,  4617.65623753, ...,\n",
       "        13228.72711313, 13533.67819989, 12072.78118189],\n",
       "       [ 7012.16926539, 14166.74766633, 17899.46487534, ...,\n",
       "         1808.7926919 ,  4282.09260944, 10353.35099072],\n",
       "       [ 5277.39209246, 12923.88767578, 17655.99278047, ...,\n",
       "         6011.22017955,  7895.39624805, 12433.00585932]])"
      ]
     },
     "execution_count": 770,
     "metadata": {},
     "output_type": "execute_result"
    }
   ],
   "source": [
    "def get_euclidean_disctance(demand_d, supply_d):\n",
    "    # get easting and northing of demand zones\n",
    "    coords_d = demand_d.loc[:,['easting','northing']]\n",
    "    # make them a tuple \n",
    "    coords_d['coords'] = coords_d[['easting', 'northing']].apply(tuple, axis=1)\n",
    "    # add tuple as a col of df \n",
    "    coords_d = coords_d.loc[:,'coords']\n",
    "    \n",
    "    # do the same for supply coordinates\n",
    "    coords_s = supply_d.loc[:,['easting','northing']]\n",
    "    coords_s['coords'] = coords_s[['easting', 'northing']].apply(tuple, axis=1)\n",
    "    coords_s = coords_s.loc[:,'coords']\n",
    "    \n",
    "    # calculate distances\n",
    "    distances = []\n",
    "    for j in range(demand_d.shape[0]):\n",
    "        dist = []\n",
    "        for i in range(supply_d.shape[0]):\n",
    "            # euclidean distance\n",
    "            d = distance.vincenty(coords_d.iloc[j],coords_s.iloc[i]).km\n",
    "            dist.append(d)\n",
    "        distances.append(dist) \n",
    "    # create a df of distances\n",
    "    df = pd.DataFrame(distances)\n",
    "    df = df.transpose()\n",
    "    # convert to matrix \n",
    "    Cij = df.as_matrix()\n",
    "    # this is the matrix of distances. \n",
    "    return Cij\n",
    "\n",
    "# call function\n",
    "Cij = get_euclidean_disctance(demand_d, supply_d)\n",
    "Cij"
   ]
  },
  {
   "cell_type": "markdown",
   "metadata": {},
   "source": [
    "### 2. Get $W_j$\n",
    "\n",
    "$W_j$ is the attractiveness of each retail point. In this project we are assuming that the attractiveness of a store is given by its size."
   ]
  },
  {
   "cell_type": "code",
   "execution_count": 771,
   "metadata": {},
   "outputs": [
    {
     "data": {
      "text/plain": [
       "array([1182,  519,  295,  465,  351,  451,  481, 1006,  764, 2817, 1463,\n",
       "       2816,  188,  265, 1271,  257,  218,  138,  123,  146,  129,  103,\n",
       "        228,  224,  163,  116,  270,  238,  219,  117,  253,  272,  462,\n",
       "        231,  374,  832,  409,  265,  177,  223,  190,  168,  163,  267,\n",
       "        151, 1208, 1365,  270,  319,  230,  424,  101,  185,  136,  221,\n",
       "       1052,  622,  390,  119, 1296,  615,  434,  720,  575,  335,  989,\n",
       "        128,  235,  569,  271,  905,  216,  361, 1132])"
      ]
     },
     "execution_count": 771,
     "metadata": {},
     "output_type": "execute_result"
    }
   ],
   "source": [
    "Wj = np.array(supply_d.iloc[:,3])\n",
    "Wj"
   ]
  },
  {
   "cell_type": "markdown",
   "metadata": {},
   "source": [
    "### 3. Get $O_i$\n",
    "\n",
    "$O_i$ is the expenditure available to consumers. "
   ]
  },
  {
   "cell_type": "code",
   "execution_count": 772,
   "metadata": {
    "scrolled": true
   },
   "outputs": [
    {
     "data": {
      "text/plain": [
       "array([ 62920.,  89230.,  87710.,  98910.,  83920.,  79470., 104930.,\n",
       "       171180.,  91600.,  98530.,  81090.,  96990.,  97170.,  86730.,\n",
       "        80690., 109310.,  93370., 104160.,  97100.,  93620., 108050.,\n",
       "        89900., 100280.,  89000.,  94300.,  94040., 104530.,  91290.,\n",
       "        85290.,  17290.])"
      ]
     },
     "execution_count": 772,
     "metadata": {},
     "output_type": "execute_result"
    }
   ],
   "source": [
    "Oi = np.array(demand_d.loc[:,'expenditure'])\n",
    "Oi"
   ]
  },
  {
   "cell_type": "markdown",
   "metadata": {},
   "source": [
    "### 4. Calculate $A_i$\n",
    "\n",
    "$A_i$ is given by: \n",
    "\n",
    "$$ A_i = \\frac{1}{\\sum W_j exp (-\\beta C_{ij})}$$\n",
    "\n",
    "I am choosing a values of $\\beta$ = 0.1\n",
    " "
   ]
  },
  {
   "cell_type": "code",
   "execution_count": 773,
   "metadata": {},
   "outputs": [
    {
     "data": {
      "text/plain": [
       "array([0.0045832 , 0.00091437, 0.00355984, 0.00039778, 0.0082383 ,\n",
       "       0.00044019, 0.00296396, 0.00048976, 0.00087273, 0.00817824,\n",
       "       0.00645156, 0.00521571, 0.00127692, 0.00703391, 0.00896696,\n",
       "       0.00044667, 0.00474796, 0.00127867, 0.01203539, 0.00703242,\n",
       "       0.01566707, 0.00048271, 0.00632488, 0.00174476, 0.00592595,\n",
       "       0.00712245, 0.00061569, 0.00352848, 0.00889034, 0.00885076])"
      ]
     },
     "execution_count": 773,
     "metadata": {},
     "output_type": "execute_result"
    }
   ],
   "source": [
    "def get_Ai(Wj, Cij, beta = 0.001):\n",
    "    # take exp of distance matrix and mulptiply by negative beta\n",
    "    exp = np.exp(-beta*Cij)\n",
    "    # multiply exponential by w\n",
    "    w = exp.T * Wj\n",
    "    # sum across\n",
    "    s = w.sum(axis=1)\n",
    "    # take inverse of sum \n",
    "    Ai = 1/s\n",
    "    return Ai\n",
    "\n",
    "Ai = get_Ai(Wj, Cij)\n",
    "Ai"
   ]
  },
  {
   "cell_type": "markdown",
   "metadata": {},
   "source": [
    "### 5. Calculate flow of money $S_{ij}$"
   ]
  },
  {
   "cell_type": "code",
   "execution_count": 774,
   "metadata": {},
   "outputs": [],
   "source": [
    "# calculate Sij which is the stream of money \n",
    "def get_Sij(Cij, Wj, Ai, Oi, beta = 0.001):\n",
    "    exp = np.exp(-beta*Cij)\n",
    "    w = exp.T * Wj\n",
    "    Sij = w.T*(Ai*Oi)\n",
    "    Sij = Sij.sum(axis=1)\n",
    "    return Sij\n",
    "\n",
    "Sij = get_Sij(Cij, Wj, Ai, Oi)"
   ]
  },
  {
   "cell_type": "code",
   "execution_count": 775,
   "metadata": {},
   "outputs": [],
   "source": [
    "# add expected expenditure to dataframe\n",
    "supply['expected revenue'] = Sij"
   ]
  },
  {
   "cell_type": "code",
   "execution_count": 776,
   "metadata": {},
   "outputs": [
    {
     "name": "stdout",
     "output_type": "stream",
     "text": [
      "the total revenue is  2782600.0  the total money household have to spend on food is  2782600.0\n"
     ]
    }
   ],
   "source": [
    "# has all money been allocated? \n",
    "total_revenue = Sij.sum()\n",
    "total_demand = Oi.sum()\n",
    "print('the total revenue is ', total_revenue, ' the total money household have to spend on food is ', total_demand )"
   ]
  },
  {
   "cell_type": "markdown",
   "metadata": {},
   "source": [
    "## Findings"
   ]
  },
  {
   "cell_type": "code",
   "execution_count": 777,
   "metadata": {},
   "outputs": [],
   "source": [
    "# group data by retailer to get total revenue per retailer\n",
    "total_revs = supply.groupby('retailer', as_index=False)['expected revenue'].sum()\n",
    "# sort from higher expected revenue to lower\n",
    "total_revs = total_revs.sort_values(by=['expected revenue'], ascending = False).reset_index()"
   ]
  },
  {
   "cell_type": "code",
   "execution_count": 778,
   "metadata": {},
   "outputs": [
    {
     "data": {
      "text/plain": [
       "'The Co-operative Group'"
      ]
     },
     "execution_count": 778,
     "metadata": {},
     "output_type": "execute_result"
    }
   ],
   "source": [
    "total_revs['retailer'][0]"
   ]
  },
  {
   "cell_type": "code",
   "execution_count": 779,
   "metadata": {
    "scrolled": true
   },
   "outputs": [
    {
     "data": {
      "text/html": [
       "<iframe id=\"igraph\" scrolling=\"no\" style=\"border:none;\" seamless=\"seamless\" src=\"https://plot.ly/~giacopini/7.embed\" height=\"525px\" width=\"100%\"></iframe>"
      ],
      "text/plain": [
       "<plotly.tools.PlotlyDisplay object>"
      ]
     },
     "execution_count": 779,
     "metadata": {},
     "output_type": "execute_result"
    }
   ],
   "source": [
    "# bar graph to show which retailer is expected the higher weekly revenue\n",
    "\n",
    "trace0 = go.Bar(\n",
    "    x= total_revs['retailer'],\n",
    "    y= total_revs['expected revenue'],\n",
    "    marker=dict(\n",
    "        color=['rgba(222,45,38,0.8)', 'rgba(204,204,204,1)',\n",
    "               'rgba(204,204,204,1)', 'rgba(204,204,204,1)',\n",
    "               'rgba(204,204,204,1)', 'rgba(204,204,204,1)',\n",
    "               'rgba(204,204,204,1)','rgba(204,204,204,1)',\n",
    "               'rgba(204,204,204,1)','rgba(204,204,204,1)',\n",
    "               'rgba(204,204,204,1)','rgba(204,204,204,1)',\n",
    "               'rgba(204,204,204,1)']),\n",
    ")\n",
    "\n",
    "data = [trace0]\n",
    "layout = go.Layout(\n",
    "    title= str(total_revs['retailer'][0]) + ' can expect the highest weekly revenue',\n",
    ")\n",
    "\n",
    "fig = go.Figure(data=data, layout=layout)\n",
    "py.iplot(fig, filename='color-bar')"
   ]
  },
  {
   "cell_type": "markdown",
   "metadata": {},
   "source": [
    "We can see that **The Co-operatvie Group** is the retailer that can expect the highest weekly revenue. This can be due to the fact that they have 25 retail points in Sheffield. The picture below shows that The Co-operative Group can expect to receive the 24.5% of the expenditure available in the modelled area (Sheffield).\n",
    "\n",
    "It is also important to point out how **Morrisons**, with just 2 stores in the city was able to attract 10% of total demand. This is possibly due to the fact that the retailer has attractive stores in attractive locations. "
   ]
  },
  {
   "cell_type": "code",
   "execution_count": 780,
   "metadata": {
    "scrolled": true
   },
   "outputs": [
    {
     "data": {
      "text/html": [
       "<iframe id=\"igraph\" scrolling=\"no\" style=\"border:none;\" seamless=\"seamless\" src=\"https://plot.ly/~giacopini/5.embed\" height=\"525px\" width=\"100%\"></iframe>"
      ],
      "text/plain": [
       "<plotly.tools.PlotlyDisplay object>"
      ]
     },
     "execution_count": 780,
     "metadata": {},
     "output_type": "execute_result"
    }
   ],
   "source": [
    "# pie chart\n",
    "labels = total_revs['retailer']\n",
    "values = total_revs['expected revenue']\n",
    "\n",
    "trace = go.Pie(labels=labels, values=values)\n",
    "\n",
    "py.iplot([trace], filename='basic_pie_chart')\n"
   ]
  },
  {
   "cell_type": "markdown",
   "metadata": {},
   "source": [
    "### Location Planning Simulation\n",
    "\n",
    "Spatial interaction modelling is often times used for location planning. \n",
    "Let's assume that **Morrisons** wants to introduce a new store in sheffield and has a budget that will allow to create a 2,000 square meters store. \n",
    "The location planning team is undecided between possible locations:\n",
    "* Location 1 \n",
    "* Location 2\n",
    "* Location 3\n",
    "\n",
    "Let's see which location is the most profitable accoring to the Spatial Interatction Model"
   ]
  },
  {
   "cell_type": "code",
   "execution_count": 781,
   "metadata": {},
   "outputs": [],
   "source": [
    "# randomly generate 3 locations withing the modelled area \n",
    "# get min and max easting and northing\n",
    "min_easting = min(supply_d['easting'])\n",
    "max_easting = max(supply_d['easting'])\n",
    "min_northing= min(supply_d['northing'])\n",
    "max_northing= max(supply_d['northing'])\n",
    "size_supermarket = 2000\n",
    "\n",
    "# generate n random location withing the modelled area\n",
    "locations=[]\n",
    "how_many_random_loc = 3\n",
    "for i in range(how_many_random_loc):\n",
    "    locations.append([uniform(min_easting,max_easting),\\\n",
    "                   uniform(min_northing, max_northing)])\n",
    "\n",
    "# create rows to add to supply dataset\n",
    "rows = []    \n",
    "for i in locations: \n",
    "    rows.append(['Morrisons', i[0], i[1], size_supermarket])\n"
   ]
  },
  {
   "cell_type": "code",
   "execution_count": 782,
   "metadata": {},
   "outputs": [],
   "source": [
    "# return list of expected revenue per location\n",
    "def exp_revenue(location_rows, demand_d, supply_d):\n",
    "    # initialise empty list \n",
    "    exp_revs = []\n",
    "    total_revs_DF = []\n",
    "    # for each location \n",
    "    for row in location_rows:\n",
    "        # make row a series\n",
    "        new = pd.Series(row, index=supply_d.columns)\n",
    "        # create a copy of supply dataset\n",
    "        supply_copy = supply_d.copy(deep=True)\n",
    "        # append row to suppy dataset \n",
    "        supply_copy = supply_copy.append(new, ignore_index=True)\n",
    "        # recalculate Cij, Wj, Oi, Ai, and Sij\n",
    "        Cij = get_euclidean_disctance(demand_d, supply_copy)\n",
    "        Wj = np.array(supply_copy.iloc[:,3])\n",
    "        Oi = np.array(demand_d.loc[:,'expenditure'])\n",
    "        Ai = get_Ai(Wj, Cij)\n",
    "        Sij = get_Sij(Cij, Wj, Ai, Oi, beta = 0.001)\n",
    "        # get expected revenue of new supermarket\n",
    "        location_expected_rev = Sij[-1]\n",
    "        # add expected revenue to dataset\n",
    "        supply_copy['expected revenue'] = Sij\n",
    "        # group by retailer \n",
    "        total_revs = supply_copy.groupby('retailer', as_index=False)['expected revenue'].sum()\n",
    "        # append expected revenue to list \n",
    "        exp_revs.append(location_expected_rev)\n",
    "        # expect grouped data to list of datasets\n",
    "        total_revs_DF.append(total_revs)\n",
    "    # return list of DF and list of expected revenues per location\n",
    "    return total_revs_DF, exp_revs\n",
    "\n",
    "# call function\n",
    "dfs, exp_revs = exp_revenue(rows, demand_d, supply_d)"
   ]
  },
  {
   "cell_type": "code",
   "execution_count": 783,
   "metadata": {
    "scrolled": true
   },
   "outputs": [
    {
     "name": "stdout",
     "output_type": "stream",
     "text": [
      "The weekly revenue expected from location 1 is £ 21355.2229\n",
      "The weekly revenue expected from location 2 is £ 211068.481\n",
      "The weekly revenue expected from location 3 is £ 117489.584\n"
     ]
    }
   ],
   "source": [
    "# create labels for locations \n",
    "labels = []\n",
    "# print expected revenue per location.\n",
    "for i in range(len(exp_revs)):\n",
    "    print('The weekly revenue expected from location', i+1, 'is £', str(exp_revs[i])[:10])  \n",
    "    labels.append('Location ' + str(i+1))"
   ]
  },
  {
   "cell_type": "code",
   "execution_count": 784,
   "metadata": {
    "scrolled": true
   },
   "outputs": [
    {
     "data": {
      "image/png": "[encoded data removed]",
      "text/plain": [
       "<Figure size 432x288 with 1 Axes>"
      ]
     },
     "metadata": {},
     "output_type": "display_data"
    }
   ],
   "source": [
    "# bar graph all expected revenues per locations \n",
    "def plot_bar_x():\n",
    "    # this is for plotting purpose\n",
    "    index = np.arange(len(labels))\n",
    "    plt.bar(index, exp_revs)\n",
    "    plt.xlabel('locations', fontsize=5)\n",
    "    plt.ylabel('expected weekly revenue', fontsize=12)\n",
    "    plt.xticks(index, labels, fontsize=12, rotation=30)\n",
    "    plt.title('')\n",
    "    plt.show()\n",
    "    \n",
    "plot_bar_x()"
   ]
  },
  {
   "cell_type": "code",
   "execution_count": 785,
   "metadata": {},
   "outputs": [
    {
     "data": {
      "text/html": [
       "<iframe id=\"igraph\" scrolling=\"no\" style=\"border:none;\" seamless=\"seamless\" src=\"https://plot.ly/~giacopini/5.embed\" height=\"525px\" width=\"100%\"></iframe>"
      ],
      "text/plain": [
       "<plotly.tools.PlotlyDisplay object>"
      ]
     },
     "execution_count": 785,
     "metadata": {},
     "output_type": "execute_result"
    }
   ],
   "source": [
    "# recalculate pie chart to see market share.\n",
    "labels = dfs[np.argmax(exp_revs)]['retailer']\n",
    "values = dfs[np.argmax(exp_revs)]['expected revenue']\n",
    "trace = go.Pie(labels=labels, values=values)\n",
    "py.iplot([trace], filename='basic_pie_chart')"
   ]
  },
  {
   "cell_type": "markdown",
   "metadata": {},
   "source": [
    "### Conclusion\n",
    "<hr>\n",
    "This project is an attempt at using spatial interaction modelling to predict revenue of Sheffield supermarkets and as a location planning tool. According to the data and the Spatial Interaction Model used, The Co-operative Group is the retialer that can expect the higherst weekly revenue in Sheffield with a market share of 24.5%. \n",
    "\n",
    "For the location planning tool, I assumed that Morrison's supermarkets is considering to add another store in Sheffield. The retailer is condiring 3 locations and has a budjet to open a 2000 square meters store. The SIM used forecasted Location 2 to be the best option for Morrison's. Location 2 is in fact the one that can expect the highest weekly revenue moreover, a store in location 2 will increase Morrison's market share from 10% to 16.7%, making it the second supermarket in Sheffield in terms of expected weekly revenue. \n",
    "\n",
    "This model can be improved with information regarding store sizes, actual available expenditure, actual data regarding deman zones. \n",
    "\n",
    "Thank you to the CDRC and the lecturers for introducting me to SIM, a technique I will definitely take into account when working on my own retailing research. "
   ]
  }
 ],
 "metadata": {
  "kernelspec": {
   "display_name": "Python 3",
   "language": "python",
   "name": "python3"
  },
  "language_info": {
   "codemirror_mode": {
    "name": "ipython",
    "version": 3
   },
   "file_extension": ".py",
   "mimetype": "text/x-python",
   "name": "python",
   "nbconvert_exporter": "python",
   "pygments_lexer": "ipython3",
   "version": "3.6.8"
  }
 },
 "nbformat": 4,
 "nbformat_minor": 2
}
